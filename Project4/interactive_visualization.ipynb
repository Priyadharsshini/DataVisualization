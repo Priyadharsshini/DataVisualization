{
 "cells": [
  {
   "cell_type": "markdown",
   "id": "f739f432",
   "metadata": {},
   "source": [
    "**Author:** Priyadharsshini Sakrapani"
   ]
  },
  {
   "cell_type": "code",
   "execution_count": 238,
   "id": "7acba264",
   "metadata": {},
   "outputs": [],
   "source": [
    "import pandas as pd\n",
    "import matplotlib.pyplot as plt\n",
    "import matplotlib.ticker as mtick\n",
    "import seaborn as sns\n",
    "import numpy as np\n",
    "from ipywidgets import interact\n",
    "import ipywidgets as widgets\n",
    "from IPython.display import display, HTML\n",
    "from ipywidgets import ToggleButtons\n",
    "from ipywidgets import ToggleButtons, Layout\n",
    "from ipywidgets import Dropdown\n",
    "import warnings\n",
    "from ipywidgets import Text\n",
    "%matplotlib inline\n",
    "\n",
    "\n",
    "warnings.filterwarnings(\"ignore\")\n",
    "diamonds_df = pd.read_csv('diamonds.csv')\n",
    "names_df = pd.read_csv('names.csv')"
   ]
  },
  {
   "cell_type": "markdown",
   "id": "12957c7c",
   "metadata": {},
   "source": [
    "##### The code creates a heatmap using the seaborn library to visualize the average carat weight of diamonds based on their color and clarity. It also uses an interactive widget to allow users to choose to view data for all diamonds, natural diamonds, or lab diamonds. The clarity order is defined and used in the heatmap visualization."
   ]
  },
  {
   "cell_type": "code",
   "execution_count": 239,
   "id": "769bcf36",
   "metadata": {},
   "outputs": [
    {
     "data": {
      "application/vnd.jupyter.widget-view+json": {
       "model_id": "82331339541b43409318e1ef0b8c232f",
       "version_major": 2,
       "version_minor": 0
      },
      "text/plain": [
       "interactive(children=(Dropdown(description='Origin', options=('All', 'Natural', 'Lab'), value='All'), Output()…"
      ]
     },
     "metadata": {},
     "output_type": "display_data"
    }
   ],
   "source": [
    "clarity_order = ['SI2', 'SI1', 'VS2', 'VS1', 'VVS2', 'VVS1', 'IF']\n",
    "\n",
    "def plot_heatmap(Origin):\n",
    "    # Filtereing the data based on the selected origin\n",
    "    if Origin == 'Natural':\n",
    "        data = diamonds_df[diamonds_df['type'] == 'natural']\n",
    "    elif Origin == 'Lab':\n",
    "        data = diamonds_df[diamonds_df['type'] == 'lab']\n",
    "    else:\n",
    "        data = diamonds_df\n",
    "\n",
    "    data['clarity'] = pd.Categorical(data['clarity'], categories=clarity_order, ordered=True)\n",
    "    # Calculating the average carat weight\n",
    "    table = pd.pivot_table(data, values='carat', index='colour', columns='clarity', aggfunc='mean')\n",
    "    sns.heatmap(table, cmap='mako', fmt=\".2f\")\n",
    "\n",
    "    plt.xlabel('clarity')\n",
    "    plt.ylabel('color')\n",
    "    \n",
    "\n",
    "# Creating the interactive widget\n",
    "interact(plot_heatmap, Origin=['All', 'Natural', 'Lab'])\n",
    "\n",
    "plt.show()\n"
   ]
  },
  {
   "cell_type": "markdown",
   "id": "aba23d83",
   "metadata": {},
   "source": [
    "The initialPlot() function creates a plot that shows the popularity rankings of the top 100 names for baby boys and girls between 1996 and 2020. It creates a filtered DataFrame of the baby names data for 2020, sorts it by the count of each name, and gets the top 100 names. It then gets the rankings for these top 100 names between 1996 and 2020 and creates a list of faded grey lines for each of these names. It sets the axes, ticks, and grid lines for the plot, and returns the ax object.\n",
    "<br>\n",
    "\n",
    "The update_plot(gender, name) function updates the initialPlot() with new data based on the selected gender and name(s). It first calls initialPlot() to create a new plot, and then filters the DataFrame based on the selected gender and name(s). It gets the rankings for the selected name(s) between 1996 and 2020 and plots them as a line with markers. It uses a color cycle to distinguish between multiple names plotted on the same graph. If a name is not found in the DataFrame, it plots the top 100 names as faded grey lines. The function returns the ax object."
   ]
  },
  {
   "cell_type": "code",
   "execution_count": 240,
   "id": "2e7c8ff4",
   "metadata": {},
   "outputs": [
    {
     "data": {
      "application/vnd.jupyter.widget-view+json": {
       "model_id": "74e5de4e0ff249df9566eaa60bf28439",
       "version_major": 2,
       "version_minor": 0
      },
      "text/plain": [
       "interactive(children=(ToggleButtons(description=' ', options=('Baby boy names', 'Baby girl names'), value='Bab…"
      ]
     },
     "metadata": {},
     "output_type": "display_data"
    },
    {
     "data": {
      "text/plain": [
       "<function __main__.update_plot(gender, name)>"
      ]
     },
     "execution_count": 240,
     "metadata": {},
     "output_type": "execute_result"
    }
   ],
   "source": [
    "def initialPlot():\n",
    "    fig, ax = plt.subplots(figsize=(10,6), dpi=100)\n",
    "    # Filter the DataFrame to only include rows from 2020 and sort by count\n",
    "    df_2020 = names_df[names_df[\"year\"] == 2020].sort_values(by=\"count\", ascending=False)\n",
    "\n",
    "    # Get the top 100 names and their corresponding rankings between 1996 and 2022\n",
    "    top_100_names = df_2020[\"name\"].head(100)\n",
    "    top_100_rankings = {}\n",
    "    for name in top_100_names:\n",
    "        name_data = names_df[names_df[\"name\"] == name]\n",
    "        rankings = name_data[[\"year\", \"rank\"]]\n",
    "        rankings = rankings.set_index(\"year\")\n",
    "        rankings_dict = rankings.to_dict()[\"rank\"]\n",
    "        top_100_rankings[name] = rankings_dict\n",
    "\n",
    "    # Create a list of the faded grey lines and their corresponding names\n",
    "    grey_lines = []\n",
    "    grey_line_names = []\n",
    "    for name, rankings_dict in top_100_rankings.items():\n",
    "        # Create a list of the ranks for each year between 1996 and 2022\n",
    "        ranks = [rankings_dict.get(year, None) for year in range(1996, 2021)]\n",
    "        # Plot the ranks as a faded grey line\n",
    "        line, = ax.plot(range(1996, 2021), ranks, color=\"grey\", alpha=0.1)\n",
    "        grey_lines.append(line)\n",
    "        grey_line_names.append(name)\n",
    "\n",
    "    ax.set_title(\"Popularity ranking(1 being the most popular)\")\n",
    "    ax.tick_params(axis='x')\n",
    "    ax.tick_params(axis='y')\n",
    "    ax.set_ylim(1000, 0)\n",
    "    ax.set_yticks(range(1, 1001, 100))\n",
    "    ax.set_yticks([1,100,200,300,400,500,600,700,800,900,1000,1100])\n",
    "    ax.set_yticklabels(['1', '100', '200', '300', '400', '500', '600', '700', '800', '900', '1000',''])\n",
    "\n",
    "    ax.set_xticks(range(1996, 2021, 2))\n",
    "\n",
    "    # Show horizontal grid lines\n",
    "    ax.grid(True, axis='y', linestyle='--')\n",
    "    ax.spines['top'].set_visible(False)\n",
    "    ax.spines['right'].set_visible(False)\n",
    "    ax.spines['bottom'].set_visible(False)\n",
    "    ax.spines['left'].set_visible(False)\n",
    "    ax.axhline(y=1100, color='black')\n",
    "\n",
    "    return ax\n",
    "\n",
    "    \n",
    "# Define the function to update the plot\n",
    "def update_plot(gender, name):\n",
    "    ax = initialPlot()\n",
    "    color_cycle = ['#206095', '#A8BD3A', '#118C7B', '#F66068', '#004662', '#27A0CC']\n",
    "\n",
    "    if gender == \"Baby boy names\":\n",
    "        gender = \"boy\"\n",
    "    else:\n",
    "        gender = \"girl\"\n",
    "    names = name.split(' ')\n",
    "    \n",
    "    # Limiting to only 6 names\n",
    "    names = names[:6]\n",
    "\n",
    "    # Plot the initial data\n",
    "    # Filter the data for the selected name and gender\n",
    "    for i, name in enumerate(names):\n",
    "        filtered_df = names_df[(names_df['name'].str.upper() == name.upper()) & (names_df['sex'].str.lower() == gender.lower())]\n",
    "        if not filtered_df.empty:\n",
    "            # Get the rankings for the selected name and gender\n",
    "            rankings = filtered_df[[\"year\", \"rank\"]]\n",
    "            rankings = rankings.set_index(\"year\")\n",
    "            rankings_dict = rankings.to_dict()[\"rank\"]\n",
    "            ranks = [rankings_dict.get(year, None) for year in range(1996, 2021)]\n",
    "\n",
    "            color = color_cycle[i % len(color_cycle)]\n",
    "            line, = ax.plot(range(1996, 2021), ranks, color=color, label=name, alpha=0.9)\n",
    "            ax.legend(loc='lower right')\n",
    "            for x, y in zip(range(1996, 2021), ranks):\n",
    "                if y is not None:\n",
    "                    ax.scatter(x, y, color=color, s=10)\n",
    "\n",
    "        else:\n",
    "            df_2020 = names_df[names_df[\"year\"] == 2020].sort_values(by=\"count\", ascending=False)\n",
    "\n",
    "            # Get the top 100 names and their corresponding rankings between 1996 and 2022\n",
    "            top_100_names = df_2020[\"name\"].head(100)\n",
    "            # print(top_100_names)\n",
    "            top_100_rankings = {}\n",
    "            for name in top_100_names:\n",
    "                name_data = names_df[names_df[\"name\"] == name]\n",
    "                rankings = name_data[[\"year\", \"rank\"]]\n",
    "                rankings = rankings.set_index(\"year\")\n",
    "                rankings_dict = rankings.to_dict()[\"rank\"]\n",
    "                top_100_rankings[name] = rankings_dict\n",
    "\n",
    "            # Create a list of the faded grey lines and their corresponding names\n",
    "            grey_lines = []\n",
    "            grey_line_names = []\n",
    "            for name, rankings_dict in top_100_rankings.items():\n",
    "                # Create a list of the ranks for each year between 1996 and 2022\n",
    "                ranks = [rankings_dict.get(year, None) for year in range(1996, 2021)]\n",
    "                # Plot the ranks as a faded grey line\n",
    "                line, = ax.plot(range(1996, 2021), ranks, color=\"grey\", alpha=0.1)\n",
    "                grey_lines.append(line)\n",
    "                grey_line_names.append(name)\n",
    "        \n",
    "\n",
    "            ax.tick_params(axis='x')\n",
    "            ax.tick_params(axis='y')\n",
    "            ax.set_ylim(1000, 0)\n",
    "            ax.set_yticks(range(1, 1001, 100))\n",
    "            ax.set_yticks([1,100,200,300,400,500,600,700,800,900,1000])\n",
    "            ax.set_yticklabels(['1', '100', '200', '300', '400', '500', '600', '700', '800', '900', '>1000'])\n",
    "\n",
    "            ax.set_xticks(range(1996, 2021, 2))\n",
    "\n",
    "            ax.grid(True, axis='y', linestyle='--')\n",
    "            ax.spines['top'].set_visible(False)\n",
    "            ax.spines['right'].set_visible(False)\n",
    "            ax.spines['bottom'].set_visible(False)\n",
    "            ax.spines['left'].set_visible(False)\n",
    "\n",
    "            ax = plt.gca()  \n",
    "            ax.set_ylim(1000, 0)\n",
    "            ax.set_yticks(range(1, 1001, 100))\n",
    "            ax.set_yticks([1, 100, 200, 300, 400, 500, 600, 700, 800, 900, 1000, 1100])\n",
    "            ax.set_yticklabels(['1', '100', '200', '300', '400', '500', '600', '700', '800', '900', '1000',''])\n",
    "\n",
    "            # Show horizontal grid lines\n",
    "            ax.grid(True, axis='y', linestyle='--')\n",
    "            ax.axhline(y=1100, color='black')\n",
    "\n",
    "\n",
    "gender_toggle = ToggleButtons(options=['Baby boy names', 'Baby girl names'], description=\" \")\n",
    "name_textarea = Text(\n",
    "    value='',  \n",
    "    placeholder='Enter names separated by space. Please give time for the plot to update after each name',  \n",
    "    description='Name:',  \n",
    "    disabled=False,  \n",
    "    layout=widgets.Layout(width='auto', height='80px') \n",
    ")\n",
    "\n",
    "# Create the interactive widget\n",
    "interact(update_plot, gender=gender_toggle, name=name_textarea)\n"
   ]
  },
  {
   "cell_type": "code",
   "execution_count": null,
   "id": "42a4bcc3",
   "metadata": {},
   "outputs": [],
   "source": []
  }
 ],
 "metadata": {
  "kernelspec": {
   "display_name": "Python 3 (ipykernel)",
   "language": "python",
   "name": "python3"
  },
  "language_info": {
   "codemirror_mode": {
    "name": "ipython",
    "version": 3
   },
   "file_extension": ".py",
   "mimetype": "text/x-python",
   "name": "python",
   "nbconvert_exporter": "python",
   "pygments_lexer": "ipython3",
   "version": "3.9.12"
  }
 },
 "nbformat": 4,
 "nbformat_minor": 5
}
